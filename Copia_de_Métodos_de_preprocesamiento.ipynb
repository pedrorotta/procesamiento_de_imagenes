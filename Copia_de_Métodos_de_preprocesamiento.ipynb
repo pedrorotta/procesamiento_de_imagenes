{
  "nbformat": 4,
  "nbformat_minor": 0,
  "metadata": {
    "colab": {
      "name": "Copia de Métodos de preprocesamiento.ipynb",
      "provenance": [],
      "collapsed_sections": [],
      "mount_file_id": "1msmRjNDgDDbTCl9FOLHxe3Dwt9aNkuxH",
      "authorship_tag": "ABX9TyPzJiwH2WkvrhUhUywWZYEO",
      "include_colab_link": true
    },
    "kernelspec": {
      "name": "python3",
      "display_name": "Python 3"
    },
    "language_info": {
      "name": "python"
    }
  },
  "cells": [
    {
      "cell_type": "markdown",
      "metadata": {
        "id": "view-in-github",
        "colab_type": "text"
      },
      "source": [
        "<a href=\"https://colab.research.google.com/github/pedrorotta/procesamiento_de_imagenes/blob/main/Copia_de_M%C3%A9todos_de_preprocesamiento.ipynb\" target=\"_parent\"><img src=\"https://colab.research.google.com/assets/colab-badge.svg\" alt=\"Open In Colab\"/></a>"
      ]
    },
    {
      "cell_type": "markdown",
      "source": [
        "#**Métodos de preprocesamiento.**\n",
        "\n",
        "En este capítulo exploraremos los siguientes objetivos:\n",
        "\n",
        "\n",
        "## Objetivos:\n",
        "\n",
        "*   Histograma de una imágen\n",
        "*   Funciones puntuales \n",
        "    *    Negación digital\n",
        "    *    Ajuste de contraste\n",
        "    *    Ecualización del histograma\n",
        "    *    Correción gamma\n",
        "*   Funciones geométricas\n",
        "    *    Traslación\n",
        "    *    Rotación"
      ],
      "metadata": {
        "id": "BYrFzeuLacOD"
      }
    },
    {
      "cell_type": "markdown",
      "source": [
        "## **Histograma de una imagen**\n",
        "\n",
        "\n",
        "\n"
      ],
      "metadata": {
        "id": "nUp-1cqebFUs"
      }
    },
    {
      "cell_type": "markdown",
      "source": [
        "### Funciones de configuración"
      ],
      "metadata": {
        "id": "CbZ_BP-OAkQh"
      }
    },
    {
      "cell_type": "code",
      "execution_count": null,
      "metadata": {
        "id": "bj8q9hp0aXxU"
      },
      "outputs": [],
      "source": [
        "#Conectar google drive: google.colab import drive /content/drive"
      ]
    },
    {
      "cell_type": "code",
      "source": [
        ""
      ],
      "metadata": {
        "id": "iWYH2IQA-ooY"
      },
      "execution_count": null,
      "outputs": []
    },
    {
      "cell_type": "code",
      "source": [
        "#Indicar la ruta raíz(root) : Lugar de almacenamiento de la carpeta principal"
      ],
      "metadata": {
        "id": "N9KO_wOf_VQM"
      },
      "execution_count": null,
      "outputs": []
    },
    {
      "cell_type": "code",
      "source": [
        ""
      ],
      "metadata": {
        "id": "zsWKEi7-_eFq"
      },
      "execution_count": null,
      "outputs": []
    },
    {
      "cell_type": "code",
      "source": [
        "#Funciones que permiten aplicar el root como ruta principal. "
      ],
      "metadata": {
        "id": "YriRxw3b_mA0"
      },
      "execution_count": null,
      "outputs": []
    },
    {
      "cell_type": "code",
      "source": [
        "# El comando chdir selecciona un nuevo directorio principal\n",
        "#Con el comando listdir podemos observar las carpetas o archivos de dicho directorio\n"
      ],
      "metadata": {
        "id": "DYBef1uRAAym"
      },
      "execution_count": null,
      "outputs": []
    },
    {
      "cell_type": "code",
      "source": [
        "#os.listdir() lo podemos convertir en variable\n"
      ],
      "metadata": {
        "id": "I0Qf5B4JAJ1B"
      },
      "execution_count": null,
      "outputs": []
    },
    {
      "cell_type": "code",
      "source": [
        "#definimos la ruta de la imágen\n"
      ],
      "metadata": {
        "id": "EgRSj_WHAUO5"
      },
      "execution_count": null,
      "outputs": []
    },
    {
      "cell_type": "markdown",
      "source": [
        "### Funciones y métodos para abrir una imágen"
      ],
      "metadata": {
        "id": "aW4UozAiAuOm"
      }
    },
    {
      "cell_type": "code",
      "source": [
        "#importamos las librerías numpy, cv2 y pyplot de matplotlib"
      ],
      "metadata": {
        "id": "vTz--WsgAciL"
      },
      "execution_count": null,
      "outputs": []
    },
    {
      "cell_type": "code",
      "source": [
        ""
      ],
      "metadata": {
        "id": "L6uy7Rj4A-6a"
      },
      "execution_count": null,
      "outputs": []
    },
    {
      "cell_type": "markdown",
      "source": [
        "#### Funciones propias"
      ],
      "metadata": {
        "id": "J20VXbcACa2q"
      }
    },
    {
      "cell_type": "code",
      "source": [
        "def showrgb(image = None, title = 'Image', size = 4 ):\n",
        "  #Creada para poder visualizar la imágen rgb. \n",
        "  return None"
      ],
      "metadata": {
        "id": "BYX3rj58CfAZ"
      },
      "execution_count": null,
      "outputs": []
    },
    {
      "cell_type": "markdown",
      "source": [
        "#### Funciones de análisis "
      ],
      "metadata": {
        "id": "0WzBrH6jDt0N"
      }
    },
    {
      "cell_type": "code",
      "source": [
        "#abrir la imagen\n"
      ],
      "metadata": {
        "id": "JqjEPOiMBWbG"
      },
      "execution_count": null,
      "outputs": []
    },
    {
      "cell_type": "markdown",
      "source": [
        "### Función para histograma"
      ],
      "metadata": {
        "id": "aZtZKuD4b1aF"
      }
    },
    {
      "cell_type": "code",
      "source": [
        "#Descubrir la intensidad de la imagen\n",
        "#Aplanado de la matriz intensidad. \n"
      ],
      "metadata": {
        "id": "w1fcegSScjqH"
      },
      "execution_count": null,
      "outputs": []
    },
    {
      "cell_type": "code",
      "source": [
        "#vemos la imagen"
      ],
      "metadata": {
        "id": "RNI5XA7Nl_TX"
      },
      "execution_count": null,
      "outputs": []
    },
    {
      "cell_type": "code",
      "source": [
        "#histograma : El resultado es una gráfica\n",
        "#bins: número de rangos\n"
      ],
      "metadata": {
        "id": "pqLfv4FWdXe1"
      },
      "execution_count": null,
      "outputs": []
    },
    {
      "cell_type": "code",
      "source": [
        "##Binarización de la imagen con el histograma : \n",
        "\n",
        "    ## Ejercicio, ¿Cómo haría una binarización usando el histograma? "
      ],
      "metadata": {
        "id": "YqN1n0NBWnr8"
      },
      "execution_count": null,
      "outputs": []
    },
    {
      "cell_type": "markdown",
      "source": [
        "## **Funciones puntuales**"
      ],
      "metadata": {
        "id": "L1j26BBNrWEf"
      }
    },
    {
      "cell_type": "markdown",
      "source": [
        "### Negación digital"
      ],
      "metadata": {
        "id": "hounToqG-iJq"
      }
    },
    {
      "cell_type": "code",
      "source": [
        "# Negación digital"
      ],
      "metadata": {
        "id": "I_7bp_gGmYtU"
      },
      "execution_count": null,
      "outputs": []
    },
    {
      "cell_type": "markdown",
      "source": [
        "#### Ejemplo 1"
      ],
      "metadata": {
        "id": "gkwX14Zm-ngD"
      }
    },
    {
      "cell_type": "code",
      "source": [
        "## Determino el complemento\n"
      ],
      "metadata": {
        "id": "zYkPqWDera8S"
      },
      "execution_count": null,
      "outputs": []
    },
    {
      "cell_type": "code",
      "source": [
        "#Muestro la imagen"
      ],
      "metadata": {
        "id": "LRY_ESKsrflg"
      },
      "execution_count": null,
      "outputs": []
    },
    {
      "cell_type": "markdown",
      "source": [
        "#### Ejemplo 2"
      ],
      "metadata": {
        "id": "srsWbM7U-rvc"
      }
    },
    {
      "cell_type": "code",
      "source": [
        "#De normal a gris"
      ],
      "metadata": {
        "id": "6_Np7bbcuf0Y"
      },
      "execution_count": null,
      "outputs": []
    },
    {
      "cell_type": "code",
      "source": [
        "#Histograma"
      ],
      "metadata": {
        "id": "SXaib4S6wKa_"
      },
      "execution_count": null,
      "outputs": []
    },
    {
      "cell_type": "code",
      "source": [
        "#Negativo"
      ],
      "metadata": {
        "id": "zlt3Xv6outmZ"
      },
      "execution_count": null,
      "outputs": []
    },
    {
      "cell_type": "code",
      "source": [
        "#comparación de resultados"
      ],
      "metadata": {
        "id": "d39RD5mvuuwE"
      },
      "execution_count": null,
      "outputs": []
    },
    {
      "cell_type": "markdown",
      "source": [
        "### Ajuste de contraste"
      ],
      "metadata": {
        "id": "xn_Mz51U-z70"
      }
    },
    {
      "cell_type": "code",
      "source": [
        "#abrimos la imagen\n"
      ],
      "metadata": {
        "id": "ij-aoetB-2yF"
      },
      "execution_count": null,
      "outputs": []
    },
    {
      "cell_type": "code",
      "source": [
        "#mostramos\n"
      ],
      "metadata": {
        "id": "gk5EN5uUCJ3w"
      },
      "execution_count": null,
      "outputs": []
    },
    {
      "cell_type": "code",
      "source": [
        "#Ejemplo con el bosque oscuro\n"
      ],
      "metadata": {
        "id": "hcRkm5RzCLDF"
      },
      "execution_count": null,
      "outputs": []
    },
    {
      "cell_type": "code",
      "source": [
        "#mostramos el histograma "
      ],
      "metadata": {
        "id": "LUoj7LRVCYuO"
      },
      "execution_count": null,
      "outputs": []
    },
    {
      "cell_type": "code",
      "source": [
        "def stretch_contrast(image, L,M):\n",
        "  # Definir la función de ajuste\n",
        "  return None"
      ],
      "metadata": {
        "id": "4-FXNi8bWobm"
      },
      "execution_count": 27,
      "outputs": []
    },
    {
      "cell_type": "code",
      "source": [
        "#Revisar la imagen bo para strecth_contrast\n"
      ],
      "metadata": {
        "id": "Z3qu-mOlZQO8"
      },
      "execution_count": 28,
      "outputs": []
    },
    {
      "cell_type": "code",
      "source": [
        "\n",
        "#Bo strech histograma"
      ],
      "metadata": {
        "id": "Kxrap01hGgpl"
      },
      "execution_count": 29,
      "outputs": []
    },
    {
      "cell_type": "code",
      "source": [
        "#imread ri"
      ],
      "metadata": {
        "id": "8U5ItveDXCs2"
      },
      "execution_count": 30,
      "outputs": []
    },
    {
      "cell_type": "code",
      "source": [
        "#flatten ri"
      ],
      "metadata": {
        "id": "Zj5sK_YnXK2s"
      },
      "execution_count": 31,
      "outputs": []
    },
    {
      "cell_type": "code",
      "source": [
        "#plt.hist ri"
      ],
      "metadata": {
        "id": "UUsLL-pHXbFi"
      },
      "execution_count": 32,
      "outputs": []
    },
    {
      "cell_type": "code",
      "source": [
        "#conversión a gris\n"
      ],
      "metadata": {
        "id": "GdbW7KvoYB5Y"
      },
      "execution_count": 33,
      "outputs": []
    },
    {
      "cell_type": "code",
      "source": [
        "#Stretch flatten"
      ],
      "metadata": {
        "id": "DL5CO-sCYNvz"
      },
      "execution_count": 34,
      "outputs": []
    },
    {
      "cell_type": "markdown",
      "source": [
        "### Ecualización del histograma"
      ],
      "metadata": {
        "id": "48p2ZtyB9TPW"
      }
    },
    {
      "cell_type": "code",
      "source": [
        "\n",
        "#equalización con open cv => Leer documentación. "
      ],
      "metadata": {
        "id": "SEGvw9U0iGHg"
      },
      "execution_count": 35,
      "outputs": []
    },
    {
      "cell_type": "code",
      "source": [
        "# Mostrar imagen"
      ],
      "metadata": {
        "id": "SMnqMVTL9qsW"
      },
      "execution_count": 36,
      "outputs": []
    },
    {
      "cell_type": "code",
      "source": [
        "#demostración\n"
      ],
      "metadata": {
        "id": "bexjUkuSBKJv"
      },
      "execution_count": 37,
      "outputs": []
    },
    {
      "cell_type": "code",
      "source": [
        "#plt plot"
      ],
      "metadata": {
        "id": "4vAnkxhOHI7M"
      },
      "execution_count": 38,
      "outputs": []
    },
    {
      "cell_type": "code",
      "source": [
        "#histograma de la ecualización"
      ],
      "metadata": {
        "id": "LuuLAXvS9-dK"
      },
      "execution_count": 39,
      "outputs": []
    },
    {
      "cell_type": "code",
      "source": [
        "#normalización"
      ],
      "metadata": {
        "id": "ByxmsGu3-FXq"
      },
      "execution_count": 40,
      "outputs": []
    },
    {
      "cell_type": "code",
      "source": [
        "#riequalización ejemplo"
      ],
      "metadata": {
        "id": "MGx67Hpw_Tvc"
      },
      "execution_count": 41,
      "outputs": []
    },
    {
      "cell_type": "markdown",
      "source": [
        "### **Correción gamma**"
      ],
      "metadata": {
        "id": "5ja6mgKptySS"
      }
    },
    {
      "cell_type": "code",
      "source": [
        "def gamma_f(img,gamma):\n",
        "  #definir la función gamma\n",
        "  return None"
      ],
      "metadata": {
        "id": "BA2okDYaJVet"
      },
      "execution_count": 42,
      "outputs": []
    },
    {
      "cell_type": "code",
      "source": [
        "#Gamma ri"
      ],
      "metadata": {
        "id": "EXD9rFPYZvcB"
      },
      "execution_count": 43,
      "outputs": []
    },
    {
      "cell_type": "code",
      "source": [
        "#Gamma bo_gray"
      ],
      "metadata": {
        "id": "KdLYmIt0Z5Iq"
      },
      "execution_count": 44,
      "outputs": []
    },
    {
      "cell_type": "code",
      "source": [
        "#ri ajustada vs equalizada"
      ],
      "metadata": {
        "id": "ZPaiMnkOdDaK"
      },
      "execution_count": 45,
      "outputs": []
    },
    {
      "cell_type": "markdown",
      "source": [
        "## **Funciones geométricas**"
      ],
      "metadata": {
        "id": "LjS2Juw9e1d4"
      }
    },
    {
      "cell_type": "markdown",
      "source": [
        "### Translación"
      ],
      "metadata": {
        "id": "uuSIJ5i3uJPg"
      }
    },
    {
      "cell_type": "markdown",
      "source": [
        "### Rotación"
      ],
      "metadata": {
        "id": "y2dIpp-ouINY"
      }
    },
    {
      "cell_type": "markdown",
      "source": [
        "### Escalamiento"
      ],
      "metadata": {
        "id": "uRLkdZrRuQ_w"
      }
    },
    {
      "cell_type": "markdown",
      "source": [
        "### Squeeze (Estiramiento en diagonal)"
      ],
      "metadata": {
        "id": "CvSNhYQduYUd"
      }
    }
  ]
}