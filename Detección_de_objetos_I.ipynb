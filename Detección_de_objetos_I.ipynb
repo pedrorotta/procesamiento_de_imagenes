{
  "cells": [
    {
      "cell_type": "markdown",
      "metadata": {
        "id": "view-in-github",
        "colab_type": "text"
      },
      "source": [
        "<a href=\"https://colab.research.google.com/github/pedrorotta/procesamiento_de_imagenes/blob/main/Detecci%C3%B3n_de_objetos_I.ipynb\" target=\"_parent\"><img src=\"https://colab.research.google.com/assets/colab-badge.svg\" alt=\"Open In Colab\"/></a>"
      ]
    },
    {
      "cell_type": "code",
      "execution_count": null,
      "metadata": {
        "id": "8PFIg_coQMw5"
      },
      "outputs": [],
      "source": [
        "#configuración\n",
        "#Conectar google drive: google.colab import drive /content/drive"
      ]
    },
    {
      "cell_type": "code",
      "execution_count": null,
      "metadata": {
        "id": "yoZ8EWmoRGPP"
      },
      "outputs": [],
      "source": [
        "from google.colab import drive"
      ]
    },
    {
      "cell_type": "code",
      "execution_count": null,
      "metadata": {
        "id": "NQ3MYMpNRnwV",
        "colab": {
          "base_uri": "https://localhost:8080/"
        },
        "outputId": "a0e76763-0028-4ad9-86c3-e56287f43293"
      },
      "outputs": [
        {
          "output_type": "stream",
          "name": "stdout",
          "text": [
            "Mounted at /content/drive\n"
          ]
        }
      ],
      "source": [
        "drive.mount('/content/drive')"
      ]
    },
    {
      "cell_type": "code",
      "execution_count": null,
      "metadata": {
        "id": "W5ph_v6jTPhU"
      },
      "outputs": [],
      "source": [
        "import os\n",
        "root = '/content/drive/MyDrive/Curso procesamiento'"
      ]
    },
    {
      "cell_type": "code",
      "execution_count": null,
      "metadata": {
        "id": "YVJKa3qMTqbZ"
      },
      "outputs": [],
      "source": [
        "# El comando chdir selecciona un nuevo directorio principal\n",
        "os.chdir(root)\n",
        "#Con el comando listdir podemos observar las carpetas o archivos de dicho directorio\n",
        "#os.listdir()\n",
        "#list_dir = os.listdir()"
      ]
    },
    {
      "cell_type": "code",
      "execution_count": null,
      "metadata": {
        "id": "BRAbKU07T6fD"
      },
      "outputs": [],
      "source": [
        "import numpy as np\n",
        "import cv2\n",
        "import os\n",
        "from matplotlib import pyplot as plt\n",
        "from PIL import Image"
      ]
    },
    {
      "cell_type": "markdown",
      "metadata": {
        "id": "F_fz7oZdUCYx"
      },
      "source": [
        "#**Funciones propias**"
      ]
    },
    {
      "cell_type": "code",
      "execution_count": null,
      "metadata": {
        "id": "FlM_bvk2UJiu"
      },
      "outputs": [],
      "source": [
        "def showrgb(image = None, title = 'Image', size = 4 ):\n",
        "  #Creada para poder visualizar la imágen rgb. \n",
        "  w,h = image.shape[1],image.shape[0]\n",
        "  aspect_ratio = w/h\n",
        "  plt.figure(figsize = (size*aspect_ratio,size))\n",
        "  plt.imshow(cv2.cvtColor(image,cv2.COLOR_BGR2RGB))\n",
        "  plt.title(title)\n",
        "  plt.show()"
      ]
    },
    {
      "cell_type": "markdown",
      "metadata": {
        "id": "BYrFzeuLacOD"
      },
      "source": [
        "#**Detección de objetos I.**\n",
        "\n",
        "En este capítulo exploraremos los siguientes objetivos:\n",
        "\n",
        "\n",
        "## Objetivos:\n",
        "\n",
        "*  Transformada de Fourier\n",
        "*  Filtros en el dominio de la frecuencia\n",
        "*  Contornos \n",
        "*  Momentos\n",
        "*  Blob detection"
      ]
    },
    {
      "cell_type": "code",
      "source": [],
      "metadata": {
        "id": "TEUVYl4XkJK_"
      },
      "execution_count": null,
      "outputs": []
    }
  ],
  "metadata": {
    "colab": {
      "collapsed_sections": [
        "nUp-1cqebFUs",
        "CbZ_BP-OAkQh",
        "J20VXbcACa2q",
        "0WzBrH6jDt0N",
        "aZtZKuD4b1aF",
        "hounToqG-iJq",
        "srsWbM7U-rvc",
        "xn_Mz51U-z70",
        "48p2ZtyB9TPW",
        "5cFICZnnjw9r",
        "LjS2Juw9e1d4",
        "1QZGD3tzj8J6",
        "J9zLvpxpk6Yg",
        "XFv3A-xid8T1",
        "9ewWBhVwhwR8",
        "VsxjEh6OwR92",
        "ORmFDBb1r66Z",
        "vBYDXzApPIGN",
        "2Hd-IR0APctV",
        "nsN_8f2bZxVB",
        "Gbt0gqSgZ8Tz",
        "9jXtpLb1Z6gk",
        "qrYmehNqXrWS",
        "BIahHcVWRMjO",
        "jeQZM1D92n9D",
        "JtA4L1Mx2u11",
        "RiuCXTZ227c_",
        "RPXzc1_52-s3",
        "Hff0Siwt3BNv",
        "hE_HvWQo3EXc",
        "ZnQZxbNs2LrI",
        "hbQINF_C36s4",
        "_NVD3RVw8202",
        "Blg7KRqM9BaU",
        "sEr2n1jf4DuV"
      ],
      "provenance": [],
      "include_colab_link": true
    },
    "kernelspec": {
      "display_name": "Python 3",
      "name": "python3"
    },
    "language_info": {
      "name": "python"
    }
  },
  "nbformat": 4,
  "nbformat_minor": 0
}